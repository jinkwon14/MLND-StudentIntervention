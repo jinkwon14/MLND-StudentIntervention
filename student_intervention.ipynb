{
 "cells": [
  {
   "cell_type": "markdown",
   "metadata": {},
   "source": [
    "# Machine Learning Engineer Nanodegree\n",
    "## Supervised Learning\n",
    "## Project: Building a Student Intervention System"
   ]
  },
  {
   "cell_type": "markdown",
   "metadata": {},
   "source": [
    "Welcome to the second project of the Machine Learning Engineer Nanodegree! In this notebook, some template code has already been provided for you, and it will be your job to implement the additional functionality necessary to successfully complete this project. Sections that begin with **'Implementation'** in the header indicate that the following block of code will require additional functionality which you must provide. Instructions will be provided for each section and the specifics of the implementation are marked in the code block with a `'TODO'` statement. Please be sure to read the instructions carefully!\n",
    "\n",
    "In addition to implementing code, there will be questions that you must answer which relate to the project and your implementation. Each section where you will answer a question is preceded by a **'Question X'** header. Carefully read each question and provide thorough answers in the following text boxes that begin with **'Answer:'**. Your project submission will be evaluated based on your answers to each of the questions and the implementation you provide.  \n",
    "\n",
    ">**Note:** Code and Markdown cells can be executed using the **Shift + Enter** keyboard shortcut. In addition, Markdown cells can be edited by typically double-clicking the cell to enter edit mode."
   ]
  },
  {
   "cell_type": "markdown",
   "metadata": {},
   "source": [
    "### Question 1 - Classification vs. Regression\n",
    "*Your goal for this project is to identify students who might need early intervention before they fail to graduate. Which type of supervised learning problem is this, classification or regression? Why?*"
   ]
  },
  {
   "cell_type": "markdown",
   "metadata": {},
   "source": [
    "**Answer: **\n",
    "The answer is Classification.\n",
    "The goal of the project is to identify students who might need early intervention before they fail to graduate. Thus, the label of the project is either yes student needs an early intervention, or no student does not need an early intervention. For this reason, this project is a classificaiotn problem and sepcifically a binary classification problem."
   ]
  },
  {
   "cell_type": "markdown",
   "metadata": {},
   "source": [
    "## Exploring the Data\n",
    "Run the code cell below to load necessary Python libraries and load the student data. Note that the last column from this dataset, `'passed'`, will be our target label (whether the student graduated or didn't graduate). All other columns are features about each student."
   ]
  },
  {
   "cell_type": "code",
   "execution_count": 11,
   "metadata": {
    "collapsed": false
   },
   "outputs": [
    {
     "name": "stdout",
     "output_type": "stream",
     "text": [
      "Student data read successfully!\n"
     ]
    }
   ],
   "source": [
    "# Import libraries\n",
    "import numpy as np\n",
    "import pandas as pd\n",
    "from time import time\n",
    "from sklearn.metrics import f1_score\n",
    "\n",
    "# Read student data\n",
    "student_data = pd.read_csv(\"student-data.csv\")\n",
    "print \"Student data read successfully!\""
   ]
  },
  {
   "cell_type": "markdown",
   "metadata": {},
   "source": [
    "### Implementation: Data Exploration\n",
    "Let's begin by investigating the dataset to determine how many students we have information on, and learn about the graduation rate among these students. In the code cell below, you will need to compute the following:\n",
    "- The total number of students, `n_students`.\n",
    "- The total number of features for each student, `n_features`.\n",
    "- The number of those students who passed, `n_passed`.\n",
    "- The number of those students who failed, `n_failed`.\n",
    "- The graduation rate of the class, `grad_rate`, in percent (%).\n"
   ]
  },
  {
   "cell_type": "code",
   "execution_count": 12,
   "metadata": {
    "collapsed": false
   },
   "outputs": [
    {
     "name": "stdout",
     "output_type": "stream",
     "text": [
      "Total number of students: 395\n",
      "Number of features: 30\n",
      "Number of students who passed: 265\n",
      "Number of students who failed: 130\n",
      "Graduation rate of the class: 67.09%\n"
     ]
    }
   ],
   "source": [
    "# TODO: Calculate number of students\n",
    "# Corresponds to the number of rows\n",
    "n_students = student_data.shape[0]\n",
    "\n",
    "# TODO: Calculate number of features\n",
    "# Corresponds to the number of columns\n",
    "n_features = student_data.shape[1] - 1 # Subtract one column that corresponds to the label.\n",
    "\n",
    "# TODO: Calculate passing students\n",
    "n_passed = np.where(student_data['passed'] == 'yes')[0].size\n",
    "\n",
    "# TODO: Calculate failing students\n",
    "# !!!!!!! Better simpler method?!\n",
    "n_failed = np.where(student_data['passed'] == 'no')[0].size\n",
    "\n",
    "# TODO: Calculate graduation rate\n",
    "grad_rate = float(n_passed)/n_students*100\n",
    "\n",
    "# Print the results\n",
    "print \"Total number of students: {}\".format(n_students)\n",
    "print \"Number of features: {}\".format(n_features)\n",
    "print \"Number of students who passed: {}\".format(n_passed)\n",
    "print \"Number of students who failed: {}\".format(n_failed)\n",
    "print \"Graduation rate of the class: {:.2f}%\".format(grad_rate)"
   ]
  },
  {
   "cell_type": "markdown",
   "metadata": {},
   "source": [
    "## Preparing the Data\n",
    "In this section, we will prepare the data for modeling, training and testing.\n",
    "\n",
    "### Identify feature and target columns\n",
    "It is often the case that the data you obtain contains non-numeric features. This can be a problem, as most machine learning algorithms expect numeric data to perform computations with.\n",
    "\n",
    "Run the code cell below to separate the student data into feature and target columns to see if any features are non-numeric."
   ]
  },
  {
   "cell_type": "code",
   "execution_count": 13,
   "metadata": {
    "collapsed": false
   },
   "outputs": [
    {
     "name": "stdout",
     "output_type": "stream",
     "text": [
      "Feature columns:\n",
      "['school', 'sex', 'age', 'address', 'famsize', 'Pstatus', 'Medu', 'Fedu', 'Mjob', 'Fjob', 'reason', 'guardian', 'traveltime', 'studytime', 'failures', 'schoolsup', 'famsup', 'paid', 'activities', 'nursery', 'higher', 'internet', 'romantic', 'famrel', 'freetime', 'goout', 'Dalc', 'Walc', 'health', 'absences']\n",
      "\n",
      "Target column: passed\n",
      "\n",
      "Feature values:\n",
      "  school sex  age address famsize Pstatus  Medu  Fedu     Mjob      Fjob  \\\n",
      "0     GP   F   18       U     GT3       A     4     4  at_home   teacher   \n",
      "1     GP   F   17       U     GT3       T     1     1  at_home     other   \n",
      "2     GP   F   15       U     LE3       T     1     1  at_home     other   \n",
      "3     GP   F   15       U     GT3       T     4     2   health  services   \n",
      "4     GP   F   16       U     GT3       T     3     3    other     other   \n",
      "\n",
      "    ...    higher internet  romantic  famrel  freetime goout Dalc Walc health  \\\n",
      "0   ...       yes       no        no       4         3     4    1    1      3   \n",
      "1   ...       yes      yes        no       5         3     3    1    1      3   \n",
      "2   ...       yes      yes        no       4         3     2    2    3      3   \n",
      "3   ...       yes      yes       yes       3         2     2    1    1      5   \n",
      "4   ...       yes       no        no       4         3     2    1    2      5   \n",
      "\n",
      "  absences  \n",
      "0        6  \n",
      "1        4  \n",
      "2       10  \n",
      "3        2  \n",
      "4        4  \n",
      "\n",
      "[5 rows x 30 columns]\n"
     ]
    }
   ],
   "source": [
    "# Extract feature columns\n",
    "feature_cols = list(student_data.columns[:-1])\n",
    "\n",
    "# Extract target column 'passed'\n",
    "target_col = student_data.columns[-1] \n",
    "\n",
    "# Show the list of columns\n",
    "print \"Feature columns:\\n{}\".format(feature_cols)\n",
    "print \"\\nTarget column: {}\".format(target_col)\n",
    "\n",
    "# Separate the data into feature data and target data (X_all and y_all, respectively)\n",
    "X_all = student_data[feature_cols]\n",
    "y_all = student_data[target_col]\n",
    "\n",
    "# Show the feature information by printing the first five rows\n",
    "print \"\\nFeature values:\" \n",
    "print X_all.head()"
   ]
  },
  {
   "cell_type": "markdown",
   "metadata": {},
   "source": [
    "### Preprocess Feature Columns\n",
    "\n",
    "As you can see, there are several non-numeric columns that need to be converted! Many of them are simply `yes`/`no`, e.g. `internet`. These can be reasonably converted into `1`/`0` (binary) values.\n",
    "\n",
    "Other columns, like `Mjob` and `Fjob`, have more than two values, and are known as _categorical variables_. The recommended way to handle such a column is to create as many columns as possible values (e.g. `Fjob_teacher`, `Fjob_other`, `Fjob_services`, etc.), and assign a `1` to one of them and `0` to all others.\n",
    "\n",
    "These generated columns are sometimes called _dummy variables_, and we will use the [`pandas.get_dummies()`](http://pandas.pydata.org/pandas-docs/stable/generated/pandas.get_dummies.html?highlight=get_dummies#pandas.get_dummies) function to perform this transformation. Run the code cell below to perform the preprocessing routine discussed in this section."
   ]
  },
  {
   "cell_type": "code",
   "execution_count": 14,
   "metadata": {
    "collapsed": false
   },
   "outputs": [
    {
     "name": "stdout",
     "output_type": "stream",
     "text": [
      "Processed feature columns (48 total features):\n",
      "['school_GP', 'school_MS', 'sex_F', 'sex_M', 'age', 'address_R', 'address_U', 'famsize_GT3', 'famsize_LE3', 'Pstatus_A', 'Pstatus_T', 'Medu', 'Fedu', 'Mjob_at_home', 'Mjob_health', 'Mjob_other', 'Mjob_services', 'Mjob_teacher', 'Fjob_at_home', 'Fjob_health', 'Fjob_other', 'Fjob_services', 'Fjob_teacher', 'reason_course', 'reason_home', 'reason_other', 'reason_reputation', 'guardian_father', 'guardian_mother', 'guardian_other', 'traveltime', 'studytime', 'failures', 'schoolsup', 'famsup', 'paid', 'activities', 'nursery', 'higher', 'internet', 'romantic', 'famrel', 'freetime', 'goout', 'Dalc', 'Walc', 'health', 'absences']\n"
     ]
    }
   ],
   "source": [
    "def preprocess_features(X):\n",
    "    ''' Preprocesses the student data and converts non-numeric binary variables into\n",
    "        binary (0/1) variables. Converts categorical variables into dummy variables. '''\n",
    "    \n",
    "    # Initialize new output DataFrame\n",
    "    output = pd.DataFrame(index = X.index)\n",
    "\n",
    "    # Investigate each feature column for the data\n",
    "    for col, col_data in X.iteritems():\n",
    "        \n",
    "        # If data type is non-numeric, replace all yes/no values with 1/0\n",
    "        if col_data.dtype == object:\n",
    "            col_data = col_data.replace(['yes', 'no'], [1, 0])\n",
    "\n",
    "        # If data type is categorical, convert to dummy variables\n",
    "        if col_data.dtype == object:\n",
    "            # Example: 'school' => 'school_GP' and 'school_MS'\n",
    "            col_data = pd.get_dummies(col_data, prefix = col)  \n",
    "        \n",
    "        # Collect the revised columns\n",
    "        output = output.join(col_data)\n",
    "    \n",
    "    return output\n",
    "X_all = preprocess_features(X_all)\n",
    "print \"Processed feature columns ({} total features):\\n{}\".format(len(X_all.columns), list(X_all.columns))"
   ]
  },
  {
   "cell_type": "raw",
   "metadata": {},
   "source": [
    "### Implementation: Training and Testing Data Split\n",
    "So far, we have converted all _categorical_ features into numeric values. For the next step, we split the data (both features and corresponding labels) into training and test sets. In the following code cell below, you will need to implement the following:\n",
    "- Randomly shuffle and split the data (`X_all`, `y_all`) into training and testing subsets.\n",
    "  - Use 300 training points (approximately 75%) and 95 testing points (approximately 25%).\n",
    "  - Set a `random_state` for the function(s) you use, if provided.\n",
    "  - Store the results in `X_train`, `X_test`, `y_train`, and `y_test`."
   ]
  },
  {
   "cell_type": "code",
   "execution_count": 15,
   "metadata": {
    "collapsed": false
   },
   "outputs": [
    {
     "name": "stdout",
     "output_type": "stream",
     "text": [
      "Training set has 300 samples.\n",
      "Testing set has 95 samples.\n"
     ]
    }
   ],
   "source": [
    "# TODO: Import any additional functionality you may need here\n",
    "from sklearn.model_selection import train_test_split\n",
    "\n",
    "# TODO: Set the number of training points\n",
    "num_train = 300\n",
    "\n",
    "# Set the number of testing points\n",
    "num_test = X_all.shape[0] - num_train\n",
    "\n",
    "# TODO: Shuffle and split the dataset into the number of training and testing points above\n",
    "# X_train, X_test, y_train, y_test = train_test_split(X_all, y_all, train_size=num_train, random_state=42)\n",
    "X_train, X_test, y_train, y_test = train_test_split(X_all, y_all, stratify = y_all, test_size = 95, random_state = 42)\n",
    "\n",
    "# Show the results of the split\n",
    "print \"Training set has {} samples.\".format(X_train.shape[0])\n",
    "print \"Testing set has {} samples.\".format(X_test.shape[0])"
   ]
  },
  {
   "cell_type": "markdown",
   "metadata": {},
   "source": [
    "## Training and Evaluating Models\n",
    "In this section, you will choose 3 supervised learning models that are appropriate for this problem and available in `scikit-learn`. You will first discuss the reasoning behind choosing these three models by considering what you know about the data and each model's strengths and weaknesses. You will then fit the model to varying sizes of training data (100 data points, 200 data points, and 300 data points) and measure the F<sub>1</sub> score. You will need to produce three tables (one for each model) that shows the training set size, training time, prediction time, F<sub>1</sub> score on the training set, and F<sub>1</sub> score on the testing set.\n",
    "\n",
    "**The following supervised learning models are currently available in** [`scikit-learn`](http://scikit-learn.org/stable/supervised_learning.html) **that you may choose from:**\n",
    "- Gaussian Naive Bayes (GaussianNB)\n",
    "- Decision Trees\n",
    "- Ensemble Methods (Bagging, AdaBoost, Random Forest, Gradient Boosting)\n",
    "- K-Nearest Neighbors (KNeighbors)\n",
    "- Stochastic Gradient Descent (SGDC)\n",
    "- Support Vector Machines (SVM)\n",
    "- Logistic Regression"
   ]
  },
  {
   "cell_type": "markdown",
   "metadata": {},
   "source": [
    "### Question 2 - Model Application\n",
    "*List three supervised learning models that are appropriate for this problem. For each model chosen*\n",
    "- Describe one real-world application in industry where the model can be applied. *(You may need to do a small bit of research for this — give references!)* \n",
    "- What are the strengths of the model; when does it perform well? \n",
    "- What are the weaknesses of the model; when does it perform poorly?\n",
    "- What makes this model a good candidate for the problem, given what you know about the data?"
   ]
  },
  {
   "cell_type": "markdown",
   "metadata": {},
   "source": [
    "**Answer: **\n",
    "The seven learning models could be categorized either as parametric or nonparametric.\n",
    "Parametric classifiers included Linear Gaussian Naive Bayes, Stochastic Gradient Descent, and Logistic Regression. Nonparametric was composed of the remaining classifiers: Decision Trees, Ensemble Methods, K-Nearest Neighbors, and Support Vector Machine.\n",
    "\n",
    "The number of values, features, and characteristics of the student data were examined to determin the category of classifiers to be used. First, data size was concluded to be small based on [skcikit learn algorighm cheat sheet](http://scikit-learn.org/stable/tutorial/machine_learning_map/), which seemed to set 100k as a boundary between large and small data numbers. Second, features of student data were relatively small in number (compared to the size of samples) and not so complex. Given the two conditions, relatively small-sized and not overly complex data, **parametric classifier**[<sup>reference</sup>](http://machinelearningmastery.com/parametric-and-nonparametric-machine-learning-algorithms/) was chosen.\n",
    "However, inspecting the details of feature listed in README.md file suggested that many features are somewhat interconnected (e.g. workday alcohol consumption(Dalc) and weekend alcohol consumption(Walc)). Considering that, Gaussian Naive Bayes was not selected, which works under the assumption that features are idependent. Instead, Linear Suppor Vector Machine was chosen based on the [scikit-learn algorithm cheatsheet](http://scikit-learn.org/stable/tutorial/machine_learning_map/).\n",
    "\n",
    "**Classifiers**  \n",
    "1. Stochastic Gradient Descent\n",
    "    * Real-world application: [User recommendation](https://books.google.com/books?id=H_WbBQAAQBAJ&pg=PA219&lpg=PA219&dq=kaggle+stochastic+gradient+descent&source=bl&ots=7JVY0hpeAL&sig=LGzrURzOYUugXEhA5Itwk_RErcU&hl=ko&sa=X&ved=0ahUKEwjcnYeH1d7QAhVbHGMKHXaBBJcQ6AEIXDAH#v=onepage&q=kaggle%20stochastic%20gradient%20descent&f=false)\n",
    "    * Strengths: Cheap and fast learning.\n",
    "    * Weaknesses: Takes baby steps (small gradients at a time) to make final classification, thus unstable in nature.\n",
    "    * Why a good candidate?: Does a great job in fast and simple steps finding the local minima.\n",
    "    * Reference: \n",
    "        - (www.csie.ntu.edu)[https://www.csie.ntu.edu.tw/~htlin/course/ml13fall/doc/11_handout.pdf]\n",
    "        - [Stanford Lecture Note](https://datajobs.com/data-science-repo/Generalized-Linear-Models-[Andrew-Ng].pdf)\n",
    "        \n",
    "\n",
    "2. Logistic Regression\n",
    "    * Real-world application: [Data Mining](http://repository.cmu.edu/cgi/viewcontent.cgi?article=1217&context=robotics)\n",
    "    * Strengths: Applied a simple linear regression for binary classification that results in probability scores for observations.\n",
    "    * Weaknesses: \n",
    "        - Doesn’t perform well when feature space is too large\n",
    "        - Doesn’t handle large number of categorical features/variables well\n",
    "    * Why a good candidate?: Student data require binary classification and are relatively small with small number of features.\n",
    "    * Reference: \n",
    "        - [blog.echen.me](http://blog.echen.me/2011/04/27/choosing-a-machine-learning-classifier/)\n",
    "        - [ufldl.stanford.edu](http://ufldl.stanford.edu/tutorial/supervised/LogisticRegression/)\n",
    "        - [Stanford Lecture Note](https://datajobs.com/data-science-repo/Generalized-Linear-Models-[Andrew-Ng].pdf)\n",
    "    \n",
    "    \n",
    "3. Linear Support Vector Machine\n",
    "    * Real-world application: [In Geo and Environmental Sciences](http://www.clopinet.com/SVM.applications.html)\n",
    "    * Strengths: Memory Efficient, effective in cases where number of dimensions is greater than the number of samples, and a number of different kernel functions can be specified.\n",
    "    * Weaknesses: Does not work well if the number of features is far greater than the number of samples, and does not directly return probability estimates.\n",
    "    * Why a good candidate?: This option was chosen based on its popularity and Scikit Learn recommendation. Taking a look at the sizes of features compared to that of samples of the student data ensured that they will not be hit by the first weakness mentioned above. Moreover, if the assumption that many features of student data are interdependent holds true, data transformation by applying Support Vector Machine may lead to good predictions.\n",
    "        * Reference: [Scikit-Learn](http://scikit-learn.org/stable/modules/generated/sklearn.svm.SVC.html)"
   ]
  },
  {
   "cell_type": "markdown",
   "metadata": {},
   "source": [
    "### Setup\n",
    "Run the code cell below to initialize three helper functions which you can use for training and testing the three supervised learning models you've chosen above. The functions are as follows:\n",
    "- `train_classifier` - takes as input a classifier and training data and fits the classifier to the data.\n",
    "- `predict_labels` - takes as input a fit classifier, features, and a target labeling and makes predictions using the F<sub>1</sub> score.\n",
    "- `train_predict` - takes as input a classifier, and the training and testing data, and performs `train_clasifier` and `predict_labels`.\n",
    " - This function will report the F<sub>1</sub> score for both the training and testing data separately."
   ]
  },
  {
   "cell_type": "code",
   "execution_count": 16,
   "metadata": {
    "collapsed": false
   },
   "outputs": [],
   "source": [
    "def train_classifier(clf, X_train, y_train):\n",
    "    ''' Fits a classifier to the training data. '''\n",
    "    \n",
    "    # Start the clock, train the classifier, then stop the clock\n",
    "    start = time()\n",
    "    clf.fit(X_train, y_train)\n",
    "    end = time()\n",
    "    \n",
    "    # Print the results\n",
    "    print \"Trained model in {:.4f} seconds\".format(end - start)\n",
    "\n",
    "    \n",
    "def predict_labels(clf, features, target):\n",
    "    ''' Makes predictions using a fit classifier based on F1 score. '''\n",
    "    \n",
    "    # Start the clock, make predictions, then stop the clock\n",
    "    start = time()\n",
    "    y_pred = clf.predict(features)\n",
    "    end = time()\n",
    "    \n",
    "    # Print and return results\n",
    "    print \"Made predictions in {:.4f} seconds.\".format(end - start)\n",
    "    return f1_score(target.values, y_pred, pos_label='yes')\n",
    "\n",
    "\n",
    "def train_predict(clf, X_train, y_train, X_test, y_test):\n",
    "    ''' Train and predict using a classifer based on F1 score. '''\n",
    "    \n",
    "    # Indicate the classifier and the training set size\n",
    "    print \"Training a {} using a training set size of {}. . .\".format(clf.__class__.__name__, len(X_train))\n",
    "    \n",
    "    # Train the classifier\n",
    "    train_classifier(clf, X_train, y_train)\n",
    "    \n",
    "    # Print the results of prediction for both training and testing\n",
    "    print \"F1 score for training set: {:.4f}.\".format(predict_labels(clf, X_train, y_train))\n",
    "    print \"F1 score for test set: {:.4f}.\".format(predict_labels(clf, X_test, y_test))"
   ]
  },
  {
   "cell_type": "markdown",
   "metadata": {},
   "source": [
    "### Implementation: Model Performance Metrics\n",
    "With the predefined functions above, you will now import the three supervised learning models of your choice and run the `train_predict` function for each one. Remember that you will need to train and predict on each classifier for three different training set sizes: 100, 200, and 300. Hence, you should expect to have 9 different outputs below — 3 for each model using the varying training set sizes. In the following code cell, you will need to implement the following:\n",
    "- Import the three supervised learning models you've discussed in the previous section.\n",
    "- Initialize the three models and store them in `clf_A`, `clf_B`, and `clf_C`.\n",
    " - Use a `random_state` for each model you use, if provided.\n",
    " - **Note:** Use the default settings for each model — you will tune one specific model in a later section.\n",
    "- Create the different training set sizes to be used to train each model.\n",
    " - *Do not reshuffle and resplit the data! The new training points should be drawn from `X_train` and `y_train`.*\n",
    "- Fit each model with each training set size and make predictions on the test set (9 in total).  \n",
    "**Note:** Three tables are provided after the following code cell which can be used to store your results."
   ]
  },
  {
   "cell_type": "code",
   "execution_count": 17,
   "metadata": {
    "collapsed": false
   },
   "outputs": [
    {
     "name": "stdout",
     "output_type": "stream",
     "text": [
      "Training a SGDClassifier using a training set size of 100. . .\n",
      "Trained model in 0.0677 seconds\n",
      "Made predictions in 0.0077 seconds.\n",
      "F1 score for training set: 0.8075.\n",
      "Made predictions in 0.0002 seconds.\n",
      "F1 score for test set: 0.8025.\n",
      "Training a LogisticRegression using a training set size of 100. . .\n",
      "Trained model in 0.0030 seconds\n",
      "Made predictions in 0.0002 seconds.\n",
      "F1 score for training set: 0.8671.\n",
      "Made predictions in 0.0002 seconds.\n",
      "F1 score for test set: 0.7068.\n",
      "Training a SVC using a training set size of 100. . .\n",
      "Trained model in 0.0117 seconds\n",
      "Made predictions in 0.0011 seconds.\n",
      "F1 score for training set: 0.8750.\n",
      "Made predictions in 0.0006 seconds.\n",
      "F1 score for test set: 0.6614.\n",
      "Training a SGDClassifier using a training set size of 200. . .\n",
      "Trained model in 0.0008 seconds\n",
      "Made predictions in 0.0002 seconds.\n",
      "F1 score for training set: 0.8212.\n",
      "Made predictions in 0.0002 seconds.\n",
      "F1 score for test set: 0.7703.\n",
      "Training a LogisticRegression using a training set size of 200. . .\n",
      "Trained model in 0.0024 seconds\n",
      "Made predictions in 0.0003 seconds.\n",
      "F1 score for training set: 0.8211.\n",
      "Made predictions in 0.0002 seconds.\n",
      "F1 score for test set: 0.7391.\n",
      "Training a SVC using a training set size of 200. . .\n",
      "Trained model in 0.0095 seconds\n",
      "Made predictions in 0.0014 seconds.\n",
      "F1 score for training set: 0.8369.\n",
      "Made predictions in 0.0007 seconds.\n",
      "F1 score for test set: 0.7368.\n",
      "Training a SGDClassifier using a training set size of 300. . .\n",
      "Trained model in 0.0009 seconds\n",
      "Made predictions in 0.0002 seconds.\n",
      "F1 score for training set: 0.7960.\n",
      "Made predictions in 0.0002 seconds.\n",
      "F1 score for test set: 0.7500.\n",
      "Training a LogisticRegression using a training set size of 300. . .\n",
      "Trained model in 0.0025 seconds\n",
      "Made predictions in 0.0003 seconds.\n",
      "F1 score for training set: 0.8512.\n",
      "Made predictions in 0.0002 seconds.\n",
      "F1 score for test set: 0.7500.\n",
      "Training a SVC using a training set size of 300. . .\n",
      "Trained model in 0.0168 seconds\n",
      "Made predictions in 0.0026 seconds.\n",
      "F1 score for training set: 0.8447.\n",
      "Made predictions in 0.0009 seconds.\n",
      "F1 score for test set: 0.7626.\n"
     ]
    }
   ],
   "source": [
    "# TODO: Import the three supervised learning models from sklearn\n",
    "from sklearn.svm import SVC\n",
    "from sklearn.neighbors import KNeighborsClassifier\n",
    "from sklearn.ensemble import AdaBoostClassifier\n",
    "from sklearn.naive_bayes import GaussianNB\n",
    "from sklearn.tree import DecisionTreeClassifier\n",
    "from sklearn.linear_model import SGDClassifier\n",
    "from sklearn.linear_model import LogisticRegression\n",
    "\n",
    "clf_A = SGDClassifier(random_state=42)\n",
    "clf_B = LogisticRegression(random_state=42)\n",
    "clf_C = SVC(kernel='linear', random_state=42)\n",
    "\n",
    "# TODO: Set up the training set sizes\n",
    "X_train_100 = X_train[0:100]\n",
    "y_train_100 = y_train[0:100]\n",
    "\n",
    "X_train_200 = X_train[0:200]\n",
    "y_train_200 = y_train[0:200]\n",
    "\n",
    "X_train_300 = X_train[0:300]\n",
    "y_train_300 = y_train[0:300]\n",
    "\n",
    "# TODO: Execute the 'train_predict' function for each classifier and each training set size\n",
    "# REGEX method of doing this loop?\n",
    "X_train_ = [X_train_100, X_train_200, X_train_300]\n",
    "y_train_ = [y_train_100, y_train_200, y_train_300]\n",
    "\n",
    "for i in range (0,3):\n",
    "    X_train = X_train_[i]\n",
    "    y_train = y_train_[i]\n",
    "    train_predict(clf_A, X_train, y_train, X_test, y_test)\n",
    "    train_predict(clf_B, X_train, y_train, X_test, y_test)\n",
    "    train_predict(clf_C, X_train, y_train, X_test, y_test)\n"
   ]
  },
  {
   "cell_type": "markdown",
   "metadata": {},
   "source": [
    "### Tabular Results\n",
    "Edit the cell below to see how a table can be designed in [Markdown](https://github.com/adam-p/markdown-here/wiki/Markdown-Cheatsheet#tables). You can record your results from above in the tables provided."
   ]
  },
  {
   "cell_type": "markdown",
   "metadata": {},
   "source": [
    "** Classifer 1 - Stochatic Gradient Descent (SGD)**  \n",
    "\n",
    "| Training Set Size | Training Time [sec] | Prediction Time (test) [sec]  | F1 Score (train) | F1 Score (test) |\n",
    "| :---------------: | :---------------------: | :--------------------: | :--------------: | :-------------: |\n",
    "| 100               |       0.0014            |        0.0006          |   0.0004         |  0.0645         |\n",
    "| 200               |  0.0017                 |     0.0006             | 0.7681           | 0.6552          |\n",
    "| 300               | 0.0014                  |   0.0006               |0.8262            |  0.7919         |\n",
    "\n",
    "** Classifer 2 - Logistic Regression **  \n",
    "\n",
    "| Training Set Size | Training Time [sec] | Prediction Time (test) [sec] | F1 Score (train) | F1 Score (test) |\n",
    "| :---------------: | :---------------------: | :--------------------: | :--------------: | :-------------: |\n",
    "| 100               |  0.0019                 |      0.0003            |     0.8593       |   0.7647        |\n",
    "| 200               |   0.0028                |    0.0003              | 0.8562           |0.7914           |\n",
    "| 300               |  0.0061                 |  0.0006                |  0.8468          |   0.8060        |\n",
    "\n",
    "** Classifer 3 - Support Vector Machine (SVM)**  \n",
    "\n",
    "| Training Set Size | Training Time [sec] | Prediction Time (test) [sec] | F1 Score (train) | F1 Score (test) |\n",
    "| :---------------: | :---------------------: | :--------------------: | :--------------: | :-------------: |\n",
    "| 100               | 0.0027                  |     0.0093             |   0.8777         |  0.7746         |\n",
    "| 200               | 0.0055                  | 0.0020                 | 0.8679           |  0.7815         |\n",
    "| 300               |0.0089                   |  0.0025                |  0.8761          |  0.7838         |"
   ]
  },
  {
   "cell_type": "markdown",
   "metadata": {},
   "source": [
    "## Choosing the Best Model\n",
    "In this final section, you will choose from the three supervised learning models the *best* model to use on the student data. You will then perform a grid search optimization for the model over the entire training set (`X_train` and `y_train`) by tuning at least one parameter to improve upon the untuned model's F<sub>1</sub> score. "
   ]
  },
  {
   "cell_type": "markdown",
   "metadata": {},
   "source": [
    "### Question 3 - Choosing the Best Model\n",
    "*Based on the experiments you performed earlier, in one to two paragraphs, explain to the board of supervisors what single model you chose as the best model. Which model is generally the most appropriate based on the available data, limited resources, cost, and performance?*"
   ]
  },
  {
   "cell_type": "markdown",
   "metadata": {},
   "source": [
    "**Answer: **\n",
    "\n",
    "**Logistic Regression** will be the best classifier, considering all constraints including available data, limited resources, cost, and performance. As F<sub>1</sub> scores indicate, all three models performs well in predicting new data, as more training data are given. However, training time for both Logistic Regression and Support Vector Machine(SVM) classifiers increased with as more training data were given. For example, when training set size increased from 100 to 300, training time for both Logistic Regression classifier and SVM classifier tripled. Training time is where we can greatly benefit from Stochastic Gradient Descent(SGD) classifier; it only calculates the local gradient for finding local minima. \n",
    "\n",
    "Considering cost and performance, SGD classifier will be the best option. However, as can be seen from the table, SGD classifier performed the worst at smaller number training set size. At training set size of 100, SGD classifier returned F<sub>1</sub> score of 0.0004 for traing and 0.0645 for testing. In order to make good predictions at conditions with very limited resources (number of resources under 300), a better alternative should be used. Thus, I concluded that **Logistic Regression** is the best classifier. (If we are to have training size greater than 300, SGD will be the best option.)"
   ]
  },
  {
   "cell_type": "markdown",
   "metadata": {},
   "source": [
    "### Question 4 - Model in Layman's Terms\n",
    "*In one to two paragraphs, explain to the board of directors in layman's terms how the final model chosen is supposed to work. Be sure that you are describing the major qualities of the model, such as how the model is trained and how the model makes a prediction. Avoid using advanced mathematical or technical jargon, such as describing equations or discussing the algorithm implementation.*"
   ]
  },
  {
   "cell_type": "markdown",
   "metadata": {},
   "source": [
    "**Answer: ** \n",
    "\n",
    "Logistic Regression Classifier is a _classifier_ that applies a _logistic_ function to a linear _regression_ model to do classification. \n",
    "\n",
    "1. Applying Logistic Regression to the training data results in weights for each feature. These weights indicate how much each feature contributes to the correct (with least error) binary classification.\n",
    "2. When new data is introduced, feature values are multiplied by their feature weights and summed up. \n",
    "3. Applying the result to a _logistic_ function outputs a result between 0 and 1. This number corresponds to the probability of the new data being classified as positive of the binary label."
   ]
  },
  {
   "cell_type": "markdown",
   "metadata": {},
   "source": [
    "### Implementation: Model Tuning\n",
    "Fine tune the chosen model. Use grid search (`GridSearchCV`) with at least one important parameter tuned with at least 3 different values. You will need to use the entire training set for this. In the code cell below, you will need to implement the following:\n",
    "- Import [`sklearn.grid_search.GridSearchCV`](http://scikit-learn.org/0.17/modules/generated/sklearn.grid_search.GridSearchCV.html) and [`sklearn.metrics.make_scorer`](http://scikit-learn.org/stable/modules/generated/sklearn.metrics.make_scorer.html).\n",
    "- Create a dictionary of parameters you wish to tune for the chosen model.\n",
    " - Example: `parameters = {'parameter' : [list of values]}`.\n",
    "- Initialize the classifier you've chosen and store it in `clf`.\n",
    "- Create the F<sub>1</sub> scoring function using `make_scorer` and store it in `f1_scorer`.\n",
    " - Set the `pos_label` parameter to the correct value!\n",
    "- Perform grid search on the classifier `clf` using `f1_scorer` as the scoring method, and store it in `grid_obj`.\n",
    "- Fit the grid search object to the training data (`X_train`, `y_train`), and store it in `grid_obj`."
   ]
  },
  {
   "cell_type": "code",
   "execution_count": 18,
   "metadata": {
    "collapsed": false,
    "scrolled": false
   },
   "outputs": [
    {
     "name": "stdout",
     "output_type": "stream",
     "text": [
      "Made predictions in 0.0002 seconds.\n",
      "Tuned model has a training F1 score of 0.8291.\n",
      "Made predictions in 0.0003 seconds.\n",
      "Tuned model has a testing F1 score of 0.7891.\n"
     ]
    }
   ],
   "source": [
    "# TODO: Import 'GridSearchCV' and 'make_scorer'\n",
    "from sklearn.model_selection import GridSearchCV\n",
    "from sklearn.metrics import make_scorer\n",
    "\n",
    "# TODO: Create the parameters list you wish to tune\n",
    "parameters = {'penalty': ['l1', 'l2'], 'C': [0.01, 0.1, 1.0, 10, 100], 'random_state': [13, 29, 42, 53, 71]}\n",
    "\n",
    "# TODO: Initialize the classifier \n",
    "clf = LogisticRegression()\n",
    "\n",
    "# TODO: Make an f1 scoring function using 'make_scorer' \n",
    "f1_scorer = make_scorer(f1_score, pos_label='yes')\n",
    "\n",
    "# TODO: Perform grid search on the classifier using the f1_scorer as the scoring method\n",
    "grid_obj = GridSearchCV(clf, parameters, scoring=f1_scorer)\n",
    "\n",
    "# TODO: Fit the grid search object to the training data and find the optimal parameters\n",
    "grid_obj = grid_obj.fit(X_train, y_train)\n",
    "\n",
    "# Get the estimator\n",
    "clf = grid_obj.best_estimator_\n",
    "\n",
    "# Report the final F1 score for training and testing after parameter tuning\n",
    "print \"Tuned model has a training F1 score of {:.4f}.\".format(predict_labels(clf, X_train, y_train))\n",
    "print \"Tuned model has a testing F1 score of {:.4f}.\".format(predict_labels(clf, X_test, y_test))\n"
   ]
  },
  {
   "cell_type": "markdown",
   "metadata": {},
   "source": [
    "### Question 5 - Final F<sub>1</sub> Score\n",
    "*What is the final model's F<sub>1</sub> score for training and testing? How does that score compare to the untuned model?*"
   ]
  },
  {
   "cell_type": "markdown",
   "metadata": {},
   "source": [
    "**Answer: **\n",
    "\n",
    "Logistic Regression model's F<sub>1</sub> score is 0.7891. By default GridSearchCV conducts 3-fold cross validation, which leaves us with a training set size of 200. Thus the resulting F<sub>1</sub> score of 0.7891 agrees well with the trend from the table above where we had a F<sub>1</sub> very close to 0.7891 (which is 0.7914) for the training set size of 200. This also means that the tuned Logistic Regreession model does not perform any better than the untuned model. \n",
    "This can be due to the tuning parameters used introducing negligible difference to the model. The parameters 'penalty' and 'C' are used to solve overfitting. Thus, it is likely that the model was not prone to overfitting even when it was trained with default parameters. 'Random_state', which shuffles the data randomly, also did not introduce noticable difference because, possibly, the testing data was not complex enough for shuffling to make significant improvements."
   ]
  },
  {
   "cell_type": "markdown",
   "metadata": {},
   "source": [
    "> **Note**: Once you have completed all of the code implementations and successfully answered each question above, you may finalize your work by exporting the iPython Notebook as an HTML document. You can do this by using the menu above and navigating to  \n",
    "**File -> Download as -> HTML (.html)**. Include the finished document along with this notebook as your submission."
   ]
  }
 ],
 "metadata": {
  "anaconda-cloud": {},
  "kernelspec": {
   "display_name": "Python [default]",
   "language": "python",
   "name": "python2"
  },
  "language_info": {
   "codemirror_mode": {
    "name": "ipython",
    "version": 2
   },
   "file_extension": ".py",
   "mimetype": "text/x-python",
   "name": "python",
   "nbconvert_exporter": "python",
   "pygments_lexer": "ipython2",
   "version": "2.7.12"
  }
 },
 "nbformat": 4,
 "nbformat_minor": 0
}
